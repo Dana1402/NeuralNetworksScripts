{
 "cells": [
  {
   "cell_type": "markdown",
   "id": "f4d7139c",
   "metadata": {},
   "source": [
    "# K-FOLD VALIDATION\n",
    "### Перекрестная проверка по К-блокам"
   ]
  },
  {
   "cell_type": "code",
   "execution_count": 2,
   "id": "dbe7f734",
   "metadata": {},
   "outputs": [],
   "source": [
    "# number of folds\n",
    "k = 4\n",
    "# number of samples\n",
    "num_validation_samples = len(data) // k\n",
    "\n",
    "np.random.shuffle(data)\n",
    "\n",
    "validation_scores = []\n",
    "for fold in range(k):\n",
    "    # fold for validation\n",
    "    validation_data = data[num_validation_samples * fold: num_validation_samples * (fold - 1)]\n",
    "    # all other except fold for validation\n",
    "    training_data = data[:num_validation_samples * fold] + data[num_validation_samples * (fold + 1):]\n",
    "    \n",
    "    model = get_model()\n",
    "    model.train(training_data)\n",
    "    validation_score = model.evaluate(validation_data)\n",
    "    validation_scores.append(validation_score)\n",
    "    \n",
    "    validation_score = np.average(validation_scores)\n",
    "    \n",
    "    # learning the final model on all data, except control data!!!\n",
    "    model = get_model()\n",
    "    model.train(data)\n",
    "    test_score = model.evaluate(test_data)"
   ]
  },
  {
   "cell_type": "markdown",
   "id": "679c6a6b",
   "metadata": {},
   "source": [
    "# HOLD_OUT VALIDATION \n",
    "### Проверка с простым расщеплением выборки"
   ]
  },
  {
   "cell_type": "code",
   "execution_count": null,
   "id": "0ab66d0c",
   "metadata": {},
   "outputs": [],
   "source": [
    "num_validation_samples = 10000\n",
    "\n",
    "np.random.shuffle(data)\n",
    "\n",
    "# validation data\n",
    "validation_data = data[:num_validation_samples]\n",
    "# training data\n",
    "training_data = data[num_validation_samples:]\n",
    "\n",
    "\n",
    "model = get_model()\n",
    "model.train(training_data)\n",
    "validation_score = model.evaluate(validation_data)\n",
    "\n",
    "# learning the final model on all data, except control data!!!\n",
    "model = get_model()\n",
    "model.train(np.concatenate([training_data, validation_data]))\n",
    "\n",
    "score = model.evaluate(test_data)"
   ]
  }
 ],
 "metadata": {
  "kernelspec": {
   "display_name": "Python 3",
   "language": "python",
   "name": "python3"
  },
  "language_info": {
   "codemirror_mode": {
    "name": "ipython",
    "version": 3
   },
   "file_extension": ".py",
   "mimetype": "text/x-python",
   "name": "python",
   "nbconvert_exporter": "python",
   "pygments_lexer": "ipython3",
   "version": "3.8.8"
  }
 },
 "nbformat": 4,
 "nbformat_minor": 5
}
