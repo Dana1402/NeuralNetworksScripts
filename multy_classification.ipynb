{
  "nbformat": 4,
  "nbformat_minor": 0,
  "metadata": {
    "colab": {
      "provenance": [],
      "authorship_tag": "ABX9TyPSa9QZL5Q0JR8fmUk0TA7z",
      "include_colab_link": true
    },
    "kernelspec": {
      "name": "python3",
      "display_name": "Python 3"
    },
    "language_info": {
      "name": "python"
    }
  },
  "cells": [
    {
      "cell_type": "markdown",
      "metadata": {
        "id": "view-in-github",
        "colab_type": "text"
      },
      "source": [
        "<a href=\"https://colab.research.google.com/github/Dana1402/NeuralNetworksScripts/blob/main/multy_classification.ipynb\" target=\"_parent\"><img src=\"https://colab.research.google.com/assets/colab-badge.svg\" alt=\"Open In Colab\"/></a>"
      ]
    },
    {
      "cell_type": "code",
      "execution_count": null,
      "metadata": {
        "id": "gpFGPAnChaYq"
      },
      "outputs": [],
      "source": [
        "import tensorflow as tf\n",
        "from keras import models\n",
        "from keras import layers\n",
        "import numpy as np\n",
        "import matplotlib.pyplot as plt\n",
        "from keras.losses import sparse_categorical_crossentropy"
      ]
    },
    {
      "cell_type": "code",
      "source": [
        "(train_images, train_labels), (test_images, test_labels) = tf.keras.datasets.mnist.load_data()"
      ],
      "metadata": {
        "colab": {
          "base_uri": "https://localhost:8080/"
        },
        "id": "lowJvFeGlEg8",
        "outputId": "e1b0ec1d-8ce2-41e6-9f33-13ef9f7b2202"
      },
      "execution_count": null,
      "outputs": [
        {
          "output_type": "stream",
          "name": "stdout",
          "text": [
            "Downloading data from https://storage.googleapis.com/tensorflow/tf-keras-datasets/mnist.npz\n",
            "11493376/11490434 [==============================] - 0s 0us/step\n",
            "11501568/11490434 [==============================] - 0s 0us/step\n"
          ]
        }
      ]
    },
    {
      "cell_type": "code",
      "source": [
        "train_images = train_images.reshape(train_images.shape[0], -1).astype('float32') / 255.\n",
        "test_images = test_images.reshape(test_images.shape[0], -1).astype('float32') / 255."
      ],
      "metadata": {
        "id": "I9WN-eFxlLw0"
      },
      "execution_count": null,
      "outputs": []
    },
    {
      "cell_type": "code",
      "source": [
        "model = models.Sequential()\n",
        "model.add(tf.keras.layers.Dense(32, activation = 'relu', input_shape= (len(train_images[0]),)))\n",
        "model.add(tf.keras.layers.Dense(32, activation = 'relu'))\n",
        "model.add(tf.keras.layers.Dense(10, activation = 'softmax'))"
      ],
      "metadata": {
        "id": "ky8dIBoPlWxj"
      },
      "execution_count": null,
      "outputs": []
    },
    {
      "cell_type": "markdown",
      "source": [
        "sparce_categorical_crossentropy - используется с целочисленными метками"
      ],
      "metadata": {
        "id": "kKJT_593l4m1"
      }
    },
    {
      "cell_type": "code",
      "source": [
        "model.compile(optimizer = 'rmsprop', \n",
        "              loss=sparse_categorical_crossentropy, \n",
        "              metrics = ['accuracy'])"
      ],
      "metadata": {
        "id": "_RzurBxdldJt"
      },
      "execution_count": null,
      "outputs": []
    },
    {
      "cell_type": "code",
      "source": [
        "history = model.fit(train_images, \n",
        "                    train_labels, \n",
        "                    epochs = 20, \n",
        "                    batch_size = 512, \n",
        "                    validation_data = (test_images, test_labels))"
      ],
      "metadata": {
        "colab": {
          "base_uri": "https://localhost:8080/"
        },
        "id": "iCo0ZhMXl1dE",
        "outputId": "60fc4449-2d9c-4a35-8767-8de82a35f194"
      },
      "execution_count": null,
      "outputs": [
        {
          "output_type": "stream",
          "name": "stdout",
          "text": [
            "Epoch 1/20\n",
            "118/118 [==============================] - 1s 7ms/step - loss: 0.8052 - accuracy: 0.7862 - val_loss: 0.4015 - val_accuracy: 0.8945\n",
            "Epoch 2/20\n",
            "118/118 [==============================] - 1s 6ms/step - loss: 0.3369 - accuracy: 0.9075 - val_loss: 0.2873 - val_accuracy: 0.9220\n",
            "Epoch 3/20\n",
            "118/118 [==============================] - 1s 6ms/step - loss: 0.2680 - accuracy: 0.9246 - val_loss: 0.2504 - val_accuracy: 0.9271\n",
            "Epoch 4/20\n",
            "118/118 [==============================] - 1s 6ms/step - loss: 0.2324 - accuracy: 0.9344 - val_loss: 0.2313 - val_accuracy: 0.9330\n",
            "Epoch 5/20\n",
            "118/118 [==============================] - 1s 6ms/step - loss: 0.2078 - accuracy: 0.9413 - val_loss: 0.2203 - val_accuracy: 0.9369\n",
            "Epoch 6/20\n",
            "118/118 [==============================] - 1s 6ms/step - loss: 0.1898 - accuracy: 0.9464 - val_loss: 0.1989 - val_accuracy: 0.9432\n",
            "Epoch 7/20\n",
            "118/118 [==============================] - 1s 6ms/step - loss: 0.1753 - accuracy: 0.9498 - val_loss: 0.1917 - val_accuracy: 0.9425\n",
            "Epoch 8/20\n",
            "118/118 [==============================] - 1s 6ms/step - loss: 0.1631 - accuracy: 0.9530 - val_loss: 0.1731 - val_accuracy: 0.9493\n",
            "Epoch 9/20\n",
            "118/118 [==============================] - 1s 6ms/step - loss: 0.1531 - accuracy: 0.9553 - val_loss: 0.1678 - val_accuracy: 0.9516\n",
            "Epoch 10/20\n",
            "118/118 [==============================] - 1s 6ms/step - loss: 0.1440 - accuracy: 0.9578 - val_loss: 0.1743 - val_accuracy: 0.9475\n",
            "Epoch 11/20\n",
            "118/118 [==============================] - 1s 6ms/step - loss: 0.1365 - accuracy: 0.9602 - val_loss: 0.1623 - val_accuracy: 0.9496\n",
            "Epoch 12/20\n",
            "118/118 [==============================] - 1s 6ms/step - loss: 0.1300 - accuracy: 0.9620 - val_loss: 0.1577 - val_accuracy: 0.9506\n",
            "Epoch 13/20\n",
            "118/118 [==============================] - 1s 6ms/step - loss: 0.1233 - accuracy: 0.9636 - val_loss: 0.1649 - val_accuracy: 0.9530\n",
            "Epoch 14/20\n",
            "118/118 [==============================] - 1s 6ms/step - loss: 0.1173 - accuracy: 0.9652 - val_loss: 0.1446 - val_accuracy: 0.9581\n",
            "Epoch 15/20\n",
            "118/118 [==============================] - 1s 6ms/step - loss: 0.1125 - accuracy: 0.9666 - val_loss: 0.1436 - val_accuracy: 0.9571\n",
            "Epoch 16/20\n",
            "118/118 [==============================] - 1s 6ms/step - loss: 0.1081 - accuracy: 0.9683 - val_loss: 0.1297 - val_accuracy: 0.9624\n",
            "Epoch 17/20\n",
            "118/118 [==============================] - 1s 7ms/step - loss: 0.1034 - accuracy: 0.9692 - val_loss: 0.1499 - val_accuracy: 0.9578\n",
            "Epoch 18/20\n",
            "118/118 [==============================] - 1s 6ms/step - loss: 0.0992 - accuracy: 0.9706 - val_loss: 0.1277 - val_accuracy: 0.9628\n",
            "Epoch 19/20\n",
            "118/118 [==============================] - 1s 6ms/step - loss: 0.0959 - accuracy: 0.9713 - val_loss: 0.1321 - val_accuracy: 0.9612\n",
            "Epoch 20/20\n",
            "118/118 [==============================] - 1s 6ms/step - loss: 0.0925 - accuracy: 0.9725 - val_loss: 0.1256 - val_accuracy: 0.9629\n"
          ]
        }
      ]
    },
    {
      "cell_type": "markdown",
      "source": [
        "# Visialization"
      ],
      "metadata": {
        "id": "4EoKwijAoPw6"
      }
    },
    {
      "cell_type": "code",
      "source": [
        "import matplotlib.pyplot as plt "
      ],
      "metadata": {
        "id": "AwgLbj1xoQJJ"
      },
      "execution_count": null,
      "outputs": []
    },
    {
      "cell_type": "code",
      "source": [
        "def visualize_loss(history):\n",
        "  history_dict = history.history\n",
        "  loss_values = history_dict['loss']\n",
        "  val_loss_values = history_dict['val_loss']\n",
        "\n",
        "  acc_values = history_dict['accuracy']\n",
        "  val_acc_values = history_dict['val_accuracy']\n",
        "\n",
        "  epochs = range(1, len(history_dict['accuracy']) + 1)\n",
        "\n",
        "  plt.plot(epochs, loss_values, 'bo', label = 'Training loss')\n",
        "  plt.plot(epochs, val_loss_values, 'b', label = 'Validation loss')\n",
        "\n",
        "  plt.plot(epochs, acc_values, 'bo', label = 'Training acc', c = 'red')\n",
        "  plt.plot(epochs, val_acc_values, 'b', label = 'Validation acc', c = 'red')\n",
        "\n",
        "  plt.title('Training and validation loss/accuracy')\n",
        "  plt.xlabel('Epochs')\n",
        "  plt.ylabel('Loss,accuracy')\n",
        "  plt.legend()\n",
        "\n",
        "  plt.show()"
      ],
      "metadata": {
        "id": "hLxUlEVCoUqF"
      },
      "execution_count": null,
      "outputs": []
    },
    {
      "cell_type": "code",
      "source": [
        "visualize_loss(history)"
      ],
      "metadata": {
        "colab": {
          "base_uri": "https://localhost:8080/",
          "height": 295
        },
        "id": "_rvdO37ooXhQ",
        "outputId": "f4699a83-4cce-4d42-bdc6-62b5d9e2418f"
      },
      "execution_count": null,
      "outputs": [
        {
          "output_type": "display_data",
          "data": {
            "text/plain": [
              "<Figure size 432x288 with 1 Axes>"
            ],
            "image/png": "[encoded data removed]"
          },
          "metadata": {
            "needs_background": "light"
          }
        }
      ]
    },
    {
      "cell_type": "code",
      "source": [
        "def show_mnist(images, labels, predicted_labels=None):\n",
        "    plt.figure(figsize=(10,10))\n",
        "    for i in range(16):\n",
        "        plt.subplot(4,4, i+1)\n",
        "        plt.xticks([])\n",
        "        plt.yticks([])\n",
        "        plt.grid(False)\n",
        "        plt.imshow(images[i], cmap=plt.cm.gray)\n",
        "        if predicted_labels is not None:\n",
        "            title_obj = plt.title(f\"Real: {labels[i]}. Pred: {predicted_labels[i].argmax()}\")\n",
        "            if labels[i] != predicted_labels[i].argmax():\n",
        "                plt.setp(title_obj, color='r')\n",
        "        else:\n",
        "            plt.title(f\"Real label: {labels[i]}\")"
      ],
      "metadata": {
        "id": "jft2V4IyrDJy"
      },
      "execution_count": null,
      "outputs": []
    },
    {
      "cell_type": "code",
      "source": [
        "predicted_labels = model.predict(test_images)\n",
        "idxs = np.random.choice(np.arange(len(test_images)), 16, replace=False)\n",
        "show_mnist(test_images[idxs].reshape((-1, 28, 28)), test_labels[idxs], predicted_labels[idxs])"
      ],
      "metadata": {
        "colab": {
          "base_uri": "https://localhost:8080/",
          "height": 594
        },
        "id": "OjYaGnkyrDk7",
        "outputId": "f7f8bd1a-abab-4f0c-88c0-04bcbdb20342"
      },
      "execution_count": null,
      "outputs": [
        {
          "output_type": "display_data",
          "data": {
            "text/plain": [
              "<Figure size 720x720 with 16 Axes>"
            ],
            "image/png": "[encoded data removed]"
          },
          "metadata": {}
        }
      ]
    }
  ]
}